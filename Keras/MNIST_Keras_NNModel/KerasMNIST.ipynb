{
  "nbformat": 4,
  "nbformat_minor": 0,
  "metadata": {
    "colab": {
      "name": "KerasMNIST.ipynb",
      "provenance": []
    },
    "kernelspec": {
      "name": "python3",
      "display_name": "Python 3"
    }
  },
  "cells": [
    {
      "cell_type": "markdown",
      "metadata": {
        "id": "6TZvCRRgBaX4"
      },
      "source": [
        "Keras is a high-level library designed to work on top of Theano or Tensorflow. The main idea of Keras is to be an easy to use, minimalistic API which can be used to build and deploy deep learning models quickly. Due to its simplicity, Keras' syntax and model building pipeline is  easy to learn for beginners (though it does not compromise on flexibility - you can do almost everything with Keras which you can do with pure Tensorflow or Theano).\r\n",
        "\r\n",
        "Keras by default uses TensorFlow as the backend. If you wish to use it with Theano backend, you need to find the 'keras.json' file and change the \"backend\":\"tensorflow\" to \"backend\":\"theano\" in the .json file.\r\n",
        "\r\n",
        "In this notebook, we'll implement a L-layer deep model on MNIST dataset using Keras. The MNIST dataset contains tens of thousands of scanned images of handwritten digits, together with their correct classifications. MNIST's name comes from the fact that it is a modified subset of two data sets collected by NIST, the United States' National Institute of Standards and Technolog\r\n",
        "\r\n",
        "To use Keras, we'll need to install Keras and Tensorflow.\r\n",
        "<br>\r\n",
        "Run the following commands if we don't have Keras and TensorFlow already installed.\r\n",
        "<br>\r\n",
        "1. ! pip install TensorFlow\r\n",
        "<br>\r\n",
        "2. ! pip install keras\r\n",
        "<br>\r\n",
        "3. ! pip install msgpack\r\n"
      ]
    },
    {
      "cell_type": "markdown",
      "metadata": {
        "id": "EVRabuXItnj1"
      },
      "source": [
        "There are six main steps in building a model using Keras:\r\n",
        "\r\n",
        "1.Load the data\r\n",
        "\r\n",
        "2.Define the model\r\n",
        "\r\n",
        "3.Compile the model\r\n",
        "\r\n",
        "4.Fit the model\r\n",
        "\r\n",
        "4.Evaluate the model\r\n",
        "\r\n",
        "5.Make predictions\r\n"
      ]
    },
    {
      "cell_type": "code",
      "metadata": {
        "id": "2mczoBVKC6-7"
      },
      "source": [
        "import numpy as np\r\n",
        "import pandas as pd\r\n",
        "import pickle\r\n",
        "import gzip\r\n",
        "import matplotlib.pyplot as plt\r\n",
        "import h5py\r\n",
        "\r\n",
        "from PIL import Image\r\n",
        "from scipy import ndimage\r\n",
        "\r\n",
        "from keras.models import Sequential\r\n",
        "from keras.layers import Dropout ,Dense , BatchNormalization, Activation\r\n",
        "from keras import regularizers\r\n",
        "\r\n",
        "np.random.seed(7)\r\n",
        "\r\n",
        "%matplotlib inline"
      ],
      "execution_count": 6,
      "outputs": []
    },
    {
      "cell_type": "markdown",
      "metadata": {
        "id": "6xGn8filHYOe"
      },
      "source": [
        "The MNIST dataset we use here is 'mnist.pkl.gz' which is divided into training, validation and test data. The following function <i> load_data() </i> unpacks the file and extracts the training, validation and test data."
      ]
    },
    {
      "cell_type": "code",
      "metadata": {
        "id": "vCLI-UrlHX3N"
      },
      "source": [
        "def load_data():\r\n",
        "  f=gzip.open('/content/drive/MyDrive/DataSetCNN/mnist.pkl.gz','rb')\r\n",
        "  f.seek(0)\r\n",
        "  training_data, validation_data, test_data = pickle.load(f , encoding='latin1')\r\n",
        "  f.close()\r\n",
        "  return (training_data, validation_data, test_data)"
      ],
      "execution_count": 9,
      "outputs": []
    },
    {
      "cell_type": "code",
      "metadata": {
        "id": "eha-lUaPI9Js"
      },
      "source": [
        "training_data, validation_data, test_data = load_data()"
      ],
      "execution_count": 10,
      "outputs": []
    },
    {
      "cell_type": "code",
      "metadata": {
        "colab": {
          "base_uri": "https://localhost:8080/"
        },
        "id": "2VLXKHOwJBVb",
        "outputId": "5ec02e2f-8d89-4ea5-de48-6e9e90ff3755"
      },
      "source": [
        "training_data"
      ],
      "execution_count": 13,
      "outputs": [
        {
          "output_type": "execute_result",
          "data": {
            "text/plain": [
              "(array([[0., 0., 0., ..., 0., 0., 0.],\n",
              "        [0., 0., 0., ..., 0., 0., 0.],\n",
              "        [0., 0., 0., ..., 0., 0., 0.],\n",
              "        ...,\n",
              "        [0., 0., 0., ..., 0., 0., 0.],\n",
              "        [0., 0., 0., ..., 0., 0., 0.],\n",
              "        [0., 0., 0., ..., 0., 0., 0.]], dtype=float32),\n",
              " array([5, 0, 4, ..., 8, 4, 8]))"
            ]
          },
          "metadata": {
            "tags": []
          },
          "execution_count": 13
        }
      ]
    },
    {
      "cell_type": "code",
      "metadata": {
        "colab": {
          "base_uri": "https://localhost:8080/"
        },
        "id": "qN25GeMPJMAG",
        "outputId": "0ff00c66-5fba-4041-800c-cb50da0f2ef1"
      },
      "source": [
        "print(\"The feature dataset is:\"+str(training_data[0]))\r\n",
        "print(\"The target dataset is:\"+str(training_data[1]))\r\n",
        "print(\"The number of examples in the training dataset is:\" + str(len(training_data[0])))\r\n",
        "print(\"The number of points in a single input is:\" + str(len(training_data[0][1])))"
      ],
      "execution_count": 15,
      "outputs": [
        {
          "output_type": "stream",
          "text": [
            "The feature dataset is:[[0. 0. 0. ... 0. 0. 0.]\n",
            " [0. 0. 0. ... 0. 0. 0.]\n",
            " [0. 0. 0. ... 0. 0. 0.]\n",
            " ...\n",
            " [0. 0. 0. ... 0. 0. 0.]\n",
            " [0. 0. 0. ... 0. 0. 0.]\n",
            " [0. 0. 0. ... 0. 0. 0.]]\n",
            "The target dataset is:[5 0 4 ... 8 4 8]\n",
            "The number of examples in the training dataset is:50000\n",
            "The number of points in a single input is:784\n"
          ],
          "name": "stdout"
        }
      ]
    },
    {
      "cell_type": "markdown",
      "metadata": {
        "id": "ZhtHYkc8X7M7"
      },
      "source": [
        "The target variable is converted to a one hot matrix. We use the function <i> one_hot </i> to convert the target dataset to one hot encoding."
      ]
    },
    {
      "cell_type": "code",
      "metadata": {
        "id": "Kdm0RjaCXoDP"
      },
      "source": [
        "def one_hot(j):\r\n",
        "  n=j.shape[0]\r\n",
        "  new_array=np.zeros((10,n))\r\n",
        "  index=0\r\n",
        "  for res in j:\r\n",
        "    new_array[res][index]=1.0\r\n",
        "    index=index+1\r\n",
        "  return new_array"
      ],
      "execution_count": 18,
      "outputs": []
    },
    {
      "cell_type": "markdown",
      "metadata": {
        "id": "oNiFn994cLB3"
      },
      "source": [
        "Check for <i>one_hot()</i> function created"
      ]
    },
    {
      "cell_type": "code",
      "metadata": {
        "colab": {
          "base_uri": "https://localhost:8080/"
        },
        "id": "dfPwmCKoXoh8",
        "outputId": "cf8aed84-cb04-4ed6-a1e3-bf940e6655c7"
      },
      "source": [
        "data = np.array([0, 1, 2, 3, 4, 5, 6, 7, 8, 9])\r\n",
        "one_hot(data)"
      ],
      "execution_count": 21,
      "outputs": [
        {
          "output_type": "execute_result",
          "data": {
            "text/plain": [
              "array([[1., 0., 0., 0., 0., 0., 0., 0., 0., 0.],\n",
              "       [0., 1., 0., 0., 0., 0., 0., 0., 0., 0.],\n",
              "       [0., 0., 1., 0., 0., 0., 0., 0., 0., 0.],\n",
              "       [0., 0., 0., 1., 0., 0., 0., 0., 0., 0.],\n",
              "       [0., 0., 0., 0., 1., 0., 0., 0., 0., 0.],\n",
              "       [0., 0., 0., 0., 0., 1., 0., 0., 0., 0.],\n",
              "       [0., 0., 0., 0., 0., 0., 1., 0., 0., 0.],\n",
              "       [0., 0., 0., 0., 0., 0., 0., 1., 0., 0.],\n",
              "       [0., 0., 0., 0., 0., 0., 0., 0., 1., 0.],\n",
              "       [0., 0., 0., 0., 0., 0., 0., 0., 0., 1.]])"
            ]
          },
          "metadata": {
            "tags": []
          },
          "execution_count": 21
        }
      ]
    },
    {
      "cell_type": "code",
      "metadata": {
        "id": "xncBmHeQb9nk"
      },
      "source": [
        "def data_wrapper():\r\n",
        "  tr_d, va_d, te_d = load_data()\r\n",
        "\r\n",
        "  training_inputs = np.array(tr_d[0][:]).T\r\n",
        "  training_results = np.array(tr_d[1][:])\r\n",
        "  train_set_y = one_hot(training_results)\r\n",
        "\r\n",
        "  validation_inputs = np.array(va_d[0][:]).T\r\n",
        "  validation_results = np.array(va_d[1][:])\r\n",
        "  validation_set_y = one_hot(validation_results)\r\n",
        "  \r\n",
        "  test_inputs = np.array(te_d[0][:]).T\r\n",
        "  test_results = np.array(te_d[1][:])\r\n",
        "  test_set_y = one_hot(test_results)\r\n",
        "\r\n",
        "  return (training_inputs, train_set_y, validation_inputs, validation_set_y)"
      ],
      "execution_count": 26,
      "outputs": []
    },
    {
      "cell_type": "code",
      "metadata": {
        "id": "z7yfftu9hxKA"
      },
      "source": [
        "train_set_x, train_set_y, test_set_x, test_set_y = data_wrapper()"
      ],
      "execution_count": 27,
      "outputs": []
    },
    {
      "cell_type": "markdown",
      "metadata": {
        "id": "r5e4RXmkiIF1"
      },
      "source": [
        "For implementing in Keras, the input training and input target dataset are supposed to have shape (m, n) where m is the number of training samples and n is the number of parts in a single input.\r\n",
        "<br> Hence, let create the desired dataset shapes by taking transpose."
      ]
    },
    {
      "cell_type": "code",
      "metadata": {
        "id": "cQJ_zysoiGzu"
      },
      "source": [
        "train_set_x = train_set_x.T\r\n",
        "train_set_y = train_set_y.T\r\n",
        "test_set_x = test_set_x.T\r\n",
        "test_set_y = test_set_y.T"
      ],
      "execution_count": 28,
      "outputs": []
    },
    {
      "cell_type": "markdown",
      "metadata": {
        "id": "XGnRokZLiZlz"
      },
      "source": [
        "Now, let's see if the datasets are in the desired shape:"
      ]
    },
    {
      "cell_type": "code",
      "metadata": {
        "colab": {
          "base_uri": "https://localhost:8080/"
        },
        "id": "uXuB5pJiiYsV",
        "outputId": "287ec6c3-28da-4d9e-84fd-2575ee4b89aa"
      },
      "source": [
        "print (\"train_set_x shape: \" + str(train_set_x.shape))\r\n",
        "print (\"train_set_y shape: \" + str(train_set_y.shape))\r\n",
        "print (\"test_set_x shape: \" + str(test_set_x.shape))\r\n",
        "print (\"test_set_y shape: \" + str(test_set_y.shape))"
      ],
      "execution_count": 29,
      "outputs": [
        {
          "output_type": "stream",
          "text": [
            "train_set_x shape: (50000, 784)\n",
            "train_set_y shape: (50000, 10)\n",
            "test_set_x shape: (10000, 784)\n",
            "test_set_y shape: (10000, 10)\n"
          ],
          "name": "stdout"
        }
      ]
    },
    {
      "cell_type": "markdown",
      "metadata": {
        "id": "-1qa3r76iy6d"
      },
      "source": [
        "Now let us visualise the dataset. we can change the index to see if the training data has been correctly tagged."
      ]
    },
    {
      "cell_type": "code",
      "metadata": {
        "colab": {
          "base_uri": "https://localhost:8080/",
          "height": 298
        },
        "id": "pkuf1QYNijKr",
        "outputId": "09a16e60-884a-469b-e74a-d8fac60f6585"
      },
      "source": [
        "index=1000\r\n",
        "k = train_set_x[index,:]\r\n",
        "k = k.reshape((28, 28))\r\n",
        "plt.title('Label is {label}'.format(label=training_data[1][index]))\r\n",
        "plt.imshow(k, cmap='gray')"
      ],
      "execution_count": 31,
      "outputs": [
        {
          "output_type": "execute_result",
          "data": {
            "text/plain": [
              "<matplotlib.image.AxesImage at 0x7feaebfa1310>"
            ]
          },
          "metadata": {
            "tags": []
          },
          "execution_count": 31
        },
        {
          "output_type": "display_data",
          "data": {
            "image/png": "[encoded data removed]",
            "text/plain": [
              "<Figure size 432x288 with 1 Axes>"
            ]
          },
          "metadata": {
            "tags": [],
            "needs_background": "light"
          }
        }
      ]
    },
    {
      "cell_type": "code",
      "metadata": {
        "colab": {
          "base_uri": "https://localhost:8080/",
          "height": 298
        },
        "id": "-CEEqPd1l6Na",
        "outputId": "89032e12-5f60-4ef9-9a5d-fc9555e01b65"
      },
      "source": [
        "index=1009\r\n",
        "k = train_set_x[index,:]\r\n",
        "k = k.reshape((28, 28))\r\n",
        "plt.title('Label is {label}'.format(label=training_data[1][index]))\r\n",
        "plt.imshow(k, cmap='gray')"
      ],
      "execution_count": 32,
      "outputs": [
        {
          "output_type": "execute_result",
          "data": {
            "text/plain": [
              "<matplotlib.image.AxesImage at 0x7feaeb4f72d0>"
            ]
          },
          "metadata": {
            "tags": []
          },
          "execution_count": 32
        },
        {
          "output_type": "display_data",
          "data": {
            "image/png": "[encoded data removed]",
            "text/plain": [
              "<Figure size 432x288 with 1 Axes>"
            ]
          },
          "metadata": {
            "tags": [],
            "needs_background": "light"
          }
        }
      ]
    },
    {
      "cell_type": "markdown",
      "metadata": {
        "id": "c-WHgFmQmKhA"
      },
      "source": [
        "Keras is a framework. So, to implement a neural network model in Keras, we first create an instance of Sequential(). <br>\r\n",
        "The Sequential model is a linear stack of layers. We then keep adding Dense layers that are fully connected layers as we desire.\r\n",
        "\r\n",
        "We will add Dropouts and regularizers to improve model performance.\r\n",
        "\r\n",
        "Create Model"
      ]
    },
    {
      "cell_type": "code",
      "metadata": {
        "id": "dsMoYFVKmZZJ"
      },
      "source": [
        "nn_model = Sequential()\r\n",
        "nn_model.add(Dense(35, input_dim=784, activation='relu'))\r\n",
        "nn_model.add(Dropout(0.3))\r\n",
        "nn_model.add(Dense(21, activation='relu'))\r\n",
        "nn_model.add(Dense(10, activation='softmax'))"
      ],
      "execution_count": 33,
      "outputs": []
    },
    {
      "cell_type": "markdown",
      "metadata": {
        "id": "w2vu56CLnhZP"
      },
      "source": [
        "Before we run the model on the training datasets, we compile the model in which we define various things like the loss function, the optimizer and the evaluation metric."
      ]
    },
    {
      "cell_type": "code",
      "metadata": {
        "id": "41z5DrDBniNm"
      },
      "source": [
        "nn_model.compile(loss='categorical_crossentropy', optimizer='adam', metrics=['accuracy'])"
      ],
      "execution_count": 34,
      "outputs": []
    },
    {
      "cell_type": "markdown",
      "metadata": {
        "id": "HJp3nf17pIhQ"
      },
      "source": [
        "Now, to fit the model on the training input and training target dataset, we run the following command using a minibatch of size 10 and 10 epochs."
      ]
    },
    {
      "cell_type": "code",
      "metadata": {
        "colab": {
          "base_uri": "https://localhost:8080/"
        },
        "id": "J7XHF0HFpJyf",
        "outputId": "6b88d215-b358-4971-da0a-a104257cf6b6"
      },
      "source": [
        "nn_model.fit(train_set_x, train_set_y, epochs=10, batch_size=10)"
      ],
      "execution_count": 35,
      "outputs": [
        {
          "output_type": "stream",
          "text": [
            "Epoch 1/10\n",
            "5000/5000 [==============================] - 9s 2ms/step - loss: 0.7409 - accuracy: 0.7654\n",
            "Epoch 2/10\n",
            "5000/5000 [==============================] - 9s 2ms/step - loss: 0.3170 - accuracy: 0.9027\n",
            "Epoch 3/10\n",
            "5000/5000 [==============================] - 9s 2ms/step - loss: 0.2773 - accuracy: 0.9144\n",
            "Epoch 4/10\n",
            "5000/5000 [==============================] - 9s 2ms/step - loss: 0.2525 - accuracy: 0.9218\n",
            "Epoch 5/10\n",
            "5000/5000 [==============================] - 9s 2ms/step - loss: 0.2377 - accuracy: 0.9252\n",
            "Epoch 6/10\n",
            "5000/5000 [==============================] - 9s 2ms/step - loss: 0.2217 - accuracy: 0.9284\n",
            "Epoch 7/10\n",
            "5000/5000 [==============================] - 9s 2ms/step - loss: 0.2187 - accuracy: 0.9303\n",
            "Epoch 8/10\n",
            "5000/5000 [==============================] - 8s 2ms/step - loss: 0.2209 - accuracy: 0.9319\n",
            "Epoch 9/10\n",
            "5000/5000 [==============================] - 9s 2ms/step - loss: 0.2057 - accuracy: 0.9332\n",
            "Epoch 10/10\n",
            "5000/5000 [==============================] - 9s 2ms/step - loss: 0.2035 - accuracy: 0.9356\n"
          ],
          "name": "stdout"
        },
        {
          "output_type": "execute_result",
          "data": {
            "text/plain": [
              "<tensorflow.python.keras.callbacks.History at 0x7feaebdab290>"
            ]
          },
          "metadata": {
            "tags": []
          },
          "execution_count": 35
        }
      ]
    },
    {
      "cell_type": "code",
      "metadata": {
        "colab": {
          "base_uri": "https://localhost:8080/"
        },
        "id": "GsDqsSECqoKs",
        "outputId": "d34048b2-d779-4ab3-c132-c1110d45a2ce"
      },
      "source": [
        "scores_train = nn_model.evaluate(train_set_x, train_set_y)\r\n",
        "print(\"\\n%s: %.2f%%\" % (nn_model.metrics_names[1], scores_train[1]*100))"
      ],
      "execution_count": 36,
      "outputs": [
        {
          "output_type": "stream",
          "text": [
            "1563/1563 [==============================] - 2s 1ms/step - loss: 0.0886 - accuracy: 0.9726\n",
            "\n",
            "accuracy: 97.26%\n"
          ],
          "name": "stdout"
        }
      ]
    },
    {
      "cell_type": "markdown",
      "metadata": {
        "id": "nShsGFklqqkJ"
      },
      "source": [
        "We can see that the model has ~ 97% accuracy on the training dataset.\r\n",
        "Now, let's make predictions on the test dataset."
      ]
    },
    {
      "cell_type": "code",
      "metadata": {
        "colab": {
          "base_uri": "https://localhost:8080/"
        },
        "id": "cM66kQADqo5v",
        "outputId": "17aa7a30-b8d6-42e6-9540-2368768c7e39"
      },
      "source": [
        "predictions=nn_model.predict(test_set_x)\r\n",
        "predictions=np.argmax(predictions, axis=1)\r\n",
        "predictions"
      ],
      "execution_count": 37,
      "outputs": [
        {
          "output_type": "execute_result",
          "data": {
            "text/plain": [
              "array([3, 8, 6, ..., 5, 6, 8])"
            ]
          },
          "metadata": {
            "tags": []
          },
          "execution_count": 37
        }
      ]
    },
    {
      "cell_type": "code",
      "metadata": {
        "colab": {
          "base_uri": "https://localhost:8080/"
        },
        "id": "ntM-FwB7rZkr",
        "outputId": "53cd1052-0d8f-4007-e564-6a9823c51ba7"
      },
      "source": [
        "score_test = nn_model.evaluate(test_set_x, test_set_y)\r\n",
        "print(\"\\n%s: %.2f%%\" % (nn_model.metrics_names[1], score_test[1]*100))"
      ],
      "execution_count": 38,
      "outputs": [
        {
          "output_type": "stream",
          "text": [
            "313/313 [==============================] - 0s 1ms/step - loss: 0.1214 - accuracy: 0.9659\n",
            "\n",
            "accuracy: 96.59%\n"
          ],
          "name": "stdout"
        }
      ]
    },
    {
      "cell_type": "markdown",
      "metadata": {
        "id": "raqj1Syrr2VH"
      },
      "source": [
        "We can see that the model has ~97% accuracy on the training dataset.\r\n",
        "\r\n",
        "\r\n",
        "Try and look at the different test cases and check which all have gone wrong. Feel free to change the index numbers."
      ]
    },
    {
      "cell_type": "code",
      "metadata": {
        "colab": {
          "base_uri": "https://localhost:8080/",
          "height": 298
        },
        "id": "5vWLTXf2r_SU",
        "outputId": "4661288c-4bee-4768-acd5-6430647c9b14"
      },
      "source": [
        "index=9997\r\n",
        "k = test_set_x[index,:]\r\n",
        "k = k.reshape((28,28))\r\n",
        "plt.title('Label is {label}'.format(label=(predictions[index],np.argmax(test_set_y,axis=1)[index])))\r\n",
        "plt.imshow(k, cmap='gray')"
      ],
      "execution_count": 40,
      "outputs": [
        {
          "output_type": "execute_result",
          "data": {
            "text/plain": [
              "<matplotlib.image.AxesImage at 0x7feae4c9ff10>"
            ]
          },
          "metadata": {
            "tags": []
          },
          "execution_count": 40
        },
        {
          "output_type": "display_data",
          "data": {
            "image/png": "[encoded data removed]",
            "text/plain": [
              "<Figure size 432x288 with 1 Axes>"
            ]
          },
          "metadata": {
            "tags": [],
            "needs_background": "light"
          }
        }
      ]
    }
  ]
}